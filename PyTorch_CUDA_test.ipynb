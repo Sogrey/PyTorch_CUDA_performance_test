{
 "cells": [
  {
   "cell_type": "markdown",
   "id": "e1dfab07-5e0a-4e8e-960a-8f5ca041dec1",
   "metadata": {},
   "source": [
    "在Python中查询（若已装深度学习框架）"
   ]
  },
  {
   "cell_type": "code",
   "execution_count": 1,
   "id": "1f33ae1d-696e-4865-8ff3-11663ddadbc5",
   "metadata": {},
   "outputs": [
    {
     "name": "stdout",
     "output_type": "stream",
     "text": [
      "12.9\n"
     ]
    }
   ],
   "source": [
    "import torch; \n",
    "print(torch.version.cuda)"
   ]
  },
  {
   "cell_type": "code",
   "execution_count": 2,
   "id": "462700f6-9bba-4f40-a2ff-648e270bd383",
   "metadata": {},
   "outputs": [
    {
     "name": "stdout",
     "output_type": "stream",
     "text": [
      "PyTorch is using GPU\n"
     ]
    }
   ],
   "source": [
    "if torch.cuda.is_available():\n",
    "  device = torch.device(\"cuda\")\n",
    "  print(\"PyTorch is using GPU\")\n",
    "else:\n",
    "  device = torch.device(\"cpu\")\n",
    "  print(\"PyTorch is using CPU\")"
   ]
  },
  {
   "cell_type": "code",
   "execution_count": 3,
   "id": "5c6f1e88-4aae-41a2-9687-445b96628961",
   "metadata": {},
   "outputs": [
    {
     "name": "stdout",
     "output_type": "stream",
     "text": [
      "tensor([5., 7., 9.], device='cuda:0')\n"
     ]
    }
   ],
   "source": [
    "if torch.cuda.is_available():\n",
    "    device = torch.device(\"cuda\")\n",
    "    x = torch.tensor([1.0, 2.0, 3.0]).to(device)\n",
    "    y = torch.tensor([4.0, 5.0, 6.0]).to(device)\n",
    "    z = x + y\n",
    "    print(z)\n",
    "else:\n",
    "    device = torch.device(\"cpu\")\n",
    "    print(\"GPU is not available, using CPU\")"
   ]
  },
  {
   "cell_type": "code",
   "execution_count": 4,
   "id": "f3698310-146a-409d-a2e4-be7216a433b8",
   "metadata": {},
   "outputs": [
    {
     "name": "stdout",
     "output_type": "stream",
     "text": [
      "gpu计算总时长: 67.81 ms\n",
      "cpu计算总时长: 136107.96 ms\n"
     ]
    }
   ],
   "source": [
    "import time\n",
    "\n",
    "# 测试gpu计算耗时\n",
    "A = torch.ones(5000, 5000).to('cuda')\n",
    "B = torch.ones(5000, 5000).to('cuda')\n",
    "startTime2 = time.time()\n",
    "for i in range(100):\n",
    "    C = torch.matmul(A, B)\n",
    "endTime2 = time.time()\n",
    "print('gpu计算总时长:', round((endTime2 - startTime2) * 1000, 2), 'ms')\n",
    "\n",
    "# 测试cpu计算耗时\n",
    "A = torch.ones(5000, 5000)\n",
    "B = torch.ones(5000, 5000)\n",
    "startTime1 = time.time()\n",
    "for i in range(100):\n",
    "    C = torch.matmul(A, B)\n",
    "endTime1 = time.time()\n",
    "print('cpu计算总时长:', round((endTime1 - startTime1) * 1000, 2), 'ms')\n"
   ]
  },
  {
   "cell_type": "code",
   "execution_count": 5,
   "id": "c3f500b2-4ca6-4416-8c83-10ec404024b8",
   "metadata": {},
   "outputs": [
    {
     "name": "stdout",
     "output_type": "stream",
     "text": [
      "===== PyTorch RTX 4070 性能测试 =====\n",
      "检测到GPU: NVIDIA GeForce RTX 4060 Ti\n",
      "GPU内存: 8.00 GB\n",
      "CUDA版本: 12.9\n",
      "cuDNN版本: 91002\n",
      "\n",
      "=== GPU预热 ===\n"
     ]
    },
    {
     "name": "stderr",
     "output_type": "stream",
     "text": [
      "C:\\Users\\Administrator\\AppData\\Local\\Temp\\ipykernel_26780\\1008803124.py:48: FutureWarning: `torch.cuda.amp.GradScaler(args...)` is deprecated. Please use `torch.amp.GradScaler('cuda', args...)` instead.\n",
      "  scaler = GradScaler(enabled=use_amp)\n",
      "C:\\Users\\Administrator\\AppData\\Local\\Temp\\ipykernel_26780\\1008803124.py:58: FutureWarning: `torch.cuda.amp.autocast(args...)` is deprecated. Please use `torch.amp.autocast('cuda', args...)` instead.\n",
      "  with autocast(enabled=use_amp):\n"
     ]
    },
    {
     "name": "stdout",
     "output_type": "stream",
     "text": [
      "设备: cuda, 混合精度: False, 轮次 1/1, 耗时: 0.49秒\n",
      "\n",
      "=== CPU 基准测试 ===\n",
      "设备: cpu, 混合精度: False, 轮次 1/3, 耗时: 0.43秒\n",
      "设备: cpu, 混合精度: False, 轮次 2/3, 耗时: 0.37秒\n",
      "设备: cpu, 混合精度: False, 轮次 3/3, 耗时: 0.35秒\n",
      "\n",
      "=== GPU FP32 测试 ===\n",
      "设备: cuda, 混合精度: False, 轮次 1/3, 耗时: 0.14秒\n",
      "设备: cuda, 混合精度: False, 轮次 2/3, 耗时: 0.12秒\n",
      "设备: cuda, 混合精度: False, 轮次 3/3, 耗时: 0.12秒\n",
      "\n",
      "=== GPU FP16 (混合精度) 测试 ===\n",
      "设备: cuda, 混合精度: True, 轮次 1/3, 耗时: 0.28秒\n",
      "设备: cuda, 混合精度: True, 轮次 2/3, 耗时: 0.10秒\n",
      "设备: cuda, 混合精度: True, 轮次 3/3, 耗时: 0.10秒\n",
      "\n",
      "===== 性能对比 =====\n",
      "CPU 平均每轮耗时: 0.38秒\n",
      "GPU FP32 平均每轮耗时: 0.13秒 (2.94x CPU速度)\n",
      "GPU FP16 平均每轮耗时: 0.16秒 (2.39x CPU速度, 0.81x FP32速度)\n",
      "\n",
      "提示: 您可以通过任务管理器查看GPU利用率和显存使用情况\n"
     ]
    }
   ],
   "source": [
    "import torch\n",
    "import torch.nn as nn\n",
    "import torch.optim as optim\n",
    "from torch.cuda.amp import autocast, GradScaler\n",
    "import time\n",
    "import numpy as np\n",
    "import os\n",
    "\n",
    "# 设置随机种子确保结果可复现\n",
    "torch.manual_seed(42)\n",
    "np.random.seed(42)\n",
    "\n",
    "\n",
    "# 定义一个简单的CNN模型\n",
    "class SimpleCNN(nn.Module):\n",
    "    def __init__(self):\n",
    "        super(SimpleCNN, self).__init__()\n",
    "        self.conv1 = nn.Conv2d(3, 64, kernel_size=3, padding=1)\n",
    "        self.conv2 = nn.Conv2d(64, 128, kernel_size=3, padding=1)\n",
    "        self.conv3 = nn.Conv2d(128, 256, kernel_size=3, padding=1)\n",
    "        self.pool = nn.MaxPool2d(2, 2)\n",
    "        self.fc1 = nn.Linear(256 * 4 * 4, 512)\n",
    "        self.fc2 = nn.Linear(512, 10)\n",
    "        self.relu = nn.ReLU()\n",
    "        self.flatten = nn.Flatten()\n",
    "\n",
    "    def forward(self, x):\n",
    "        x = self.pool(self.relu(self.conv1(x)))\n",
    "        x = self.pool(self.relu(self.conv2(x)))\n",
    "        x = self.pool(self.relu(self.conv3(x)))\n",
    "        x = self.flatten(x)\n",
    "        x = self.relu(self.fc1(x))\n",
    "        x = self.fc2(x)\n",
    "        return x\n",
    "\n",
    "\n",
    "def train_model(device, use_amp=False, batch_size=256, epochs=5):\n",
    "    \"\"\"训练模型并返回每轮平均训练时间\"\"\"\n",
    "    # 创建随机数据模拟训练过程\n",
    "    train_data = torch.randn(batch_size * 10, 3, 32, 32)\n",
    "    train_labels = torch.randint(0, 10, (batch_size * 10,))\n",
    "    train_dataset = torch.utils.data.TensorDataset(train_data, train_labels)\n",
    "    train_loader = torch.utils.data.DataLoader(train_dataset, batch_size=batch_size)\n",
    "\n",
    "    model = SimpleCNN().to(device)\n",
    "    criterion = nn.CrossEntropyLoss()\n",
    "    optimizer = optim.Adam(model.parameters(), lr=0.001)\n",
    "    scaler = GradScaler(enabled=use_amp)\n",
    "\n",
    "    times = []\n",
    "    for epoch in range(epochs):\n",
    "        start_time = time.time()\n",
    "        model.train()\n",
    "        for inputs, labels in train_loader:\n",
    "            inputs, labels = inputs.to(device), labels.to(device)\n",
    "\n",
    "            # 混合精度训练\n",
    "            with autocast(enabled=use_amp):\n",
    "                outputs = model(inputs)\n",
    "                loss = criterion(outputs, labels)\n",
    "\n",
    "            optimizer.zero_grad()\n",
    "            if use_amp:\n",
    "                scaler.scale(loss).backward()\n",
    "                scaler.step(optimizer)\n",
    "                scaler.update()\n",
    "            else:\n",
    "                loss.backward()\n",
    "                optimizer.step()\n",
    "\n",
    "        epoch_time = time.time() - start_time\n",
    "        times.append(epoch_time)\n",
    "        print(f\"设备: {device}, 混合精度: {use_amp}, 轮次 {epoch + 1}/{epochs}, 耗时: {epoch_time:.2f}秒\")\n",
    "\n",
    "    return np.mean(times)\n",
    "\n",
    "\n",
    "def print_gpu_info():\n",
    "    \"\"\"打印GPU信息\"\"\"\n",
    "    if torch.cuda.is_available():\n",
    "        gpu_name = torch.cuda.get_device_name(0)\n",
    "        gpu_memory = torch.cuda.get_device_properties(0).total_memory / 1024 ** 3\n",
    "        print(f\"检测到GPU: {gpu_name}\")\n",
    "        print(f\"GPU内存: {gpu_memory:.2f} GB\")\n",
    "        print(f\"CUDA版本: {torch.version.cuda}\")\n",
    "        print(f\"cuDNN版本: {torch.backends.cudnn.version()}\")\n",
    "    else:\n",
    "        print(\"未检测到GPU，将只在CPU上运行测试\")\n",
    "\n",
    "\n",
    "def main():\n",
    "    print(\"===== PyTorch RTX 4070 性能测试 =====\")\n",
    "    print_gpu_info()\n",
    "\n",
    "    # 确保GPU预热\n",
    "    if torch.cuda.is_available():\n",
    "        print(\"\\n=== GPU预热 ===\")\n",
    "        _ = train_model(torch.device(\"cuda\"), use_amp=False, batch_size=32, epochs=1)\n",
    "        torch.cuda.empty_cache()\n",
    "\n",
    "    # 测试不同配置\n",
    "    results = {}\n",
    "\n",
    "    print(\"\\n=== CPU 基准测试 ===\")\n",
    "    cpu_time = train_model(torch.device(\"cpu\"), use_amp=False, batch_size=32, epochs=3)\n",
    "    results[\"CPU\"] = cpu_time\n",
    "\n",
    "    if torch.cuda.is_available():\n",
    "        print(\"\\n=== GPU FP32 测试 ===\")\n",
    "        gpu_fp32_time = train_model(torch.device(\"cuda\"), use_amp=False, epochs=3)\n",
    "        results[\"GPU FP32\"] = gpu_fp32_time\n",
    "\n",
    "        print(\"\\n=== GPU FP16 (混合精度) 测试 ===\")\n",
    "        gpu_fp16_time = train_model(torch.device(\"cuda\"), use_amp=True, epochs=3)\n",
    "        results[\"GPU FP16\"] = gpu_fp16_time\n",
    "\n",
    "        # 计算加速比\n",
    "        fp32_speedup = cpu_time / gpu_fp32_time\n",
    "        fp16_speedup = cpu_time / gpu_fp16_time\n",
    "        mixed_vs_full = gpu_fp32_time / gpu_fp16_time\n",
    "\n",
    "        print(\"\\n===== 性能对比 =====\")\n",
    "        print(f\"CPU 平均每轮耗时: {cpu_time:.2f}秒\")\n",
    "        print(f\"GPU FP32 平均每轮耗时: {gpu_fp32_time:.2f}秒 ({fp32_speedup:.2f}x CPU速度)\")\n",
    "        print(\n",
    "            f\"GPU FP16 平均每轮耗时: {gpu_fp16_time:.2f}秒 ({fp16_speedup:.2f}x CPU速度, {mixed_vs_full:.2f}x FP32速度)\")\n",
    "\n",
    "        # 打印GPU利用率\n",
    "        if os.name == 'nt':  # Windows系统\n",
    "            print(\"\\n提示: 您可以通过任务管理器查看GPU利用率和显存使用情况\")\n",
    "        elif os.name == 'posix':  # Linux系统\n",
    "            print(\"\\n提示: 您可以使用以下命令监控GPU:\")\n",
    "            print(\"  - nvidia-smi (实时GPU状态)\")\n",
    "            print(\"  - watch -n 1 nvidia-smi (每秒更新一次)\")\n",
    "    else:\n",
    "        print(\"\\n===== 性能结果 =====\")\n",
    "        print(f\"CPU 平均每轮耗时: {cpu_time:.2f}秒\")\n",
    "        print(\"未检测到GPU，无法进行GPU性能对比\")\n",
    "\n",
    "\n",
    "if __name__ == \"__main__\":\n",
    "    main()"
   ]
  },
  {
   "cell_type": "code",
   "execution_count": null,
   "id": "dd3ab2f0-287d-4976-a20b-846673da7e45",
   "metadata": {},
   "outputs": [],
   "source": []
  }
 ],
 "metadata": {
  "kernelspec": {
   "display_name": "Python 3 (ipykernel)",
   "language": "python",
   "name": "python3"
  },
  "language_info": {
   "codemirror_mode": {
    "name": "ipython",
    "version": 3
   },
   "file_extension": ".py",
   "mimetype": "text/x-python",
   "name": "python",
   "nbconvert_exporter": "python",
   "pygments_lexer": "ipython3",
   "version": "3.12.11"
  }
 },
 "nbformat": 4,
 "nbformat_minor": 5
}
